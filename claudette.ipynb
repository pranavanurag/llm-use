{
 "cells": [
  {
   "cell_type": "code",
   "execution_count": 5,
   "metadata": {},
   "outputs": [],
   "source": [
    "import os\n",
    "os.environ['ANTHROPIC_API_KEY'] = \"DO NOT FUCKING COMMIT TO GIT\"\n",
    "# os.environ['ANTHROPIC_LOG'] = 'debug'"
   ]
  },
  {
   "cell_type": "code",
   "execution_count": 6,
   "metadata": {},
   "outputs": [],
   "source": [
    "from claudette import *\n",
    "sonnet35 = models[1]\n",
    "opus3 = models[0]"
   ]
  },
  {
   "cell_type": "code",
   "execution_count": 7,
   "metadata": {},
   "outputs": [],
   "source": [
    "def get_syntax_id(filename):\n",
    "    extension = os.path.splitext(filename)[1].lower()\n",
    "    syntax_map = {\n",
    "        '.py': 'python',\n",
    "        '.html': 'html',\n",
    "        '.js': 'javascript',\n",
    "        '.css': 'css',\n",
    "        '.md': 'markdown',\n",
    "        # add more mappings as needed\n",
    "    }\n",
    "    return syntax_map.get(extension, '')\n",
    "\n",
    "def md_str(content: str, fname:str=None) -> str:\n",
    "    syntax_id = get_syntax_id(fname)\n",
    "    return f\"### {fname}\\n\\n```{syntax_id}\\n{content}\\n```\\n\"\n",
    "\n",
    "def f_md_str(filepath:str, custom_filename:str=None) -> str:\n",
    "    \"\"\"reads file as a markdown code snippet\"\"\"\n",
    "    # print(f\"f_md_str invoked with {filepath=}, {syntax_id=}, {custom_filename=}\")\n",
    "    with open(filepath, 'r') as f: content = f.read()\n",
    "    filename = custom_filename or os.path.basename(filepath)\n",
    "    return md_str(content, fname=filename)\n",
    "\n",
    "def dir_md_str(directory:str) -> []:\n",
    "    \"\"\"reads directory as markdown code snippets. adds relative paths as headers for dir structure hints\"\"\"\n",
    "    result = []\n",
    "    for root, _, files in os.walk(directory):\n",
    "        for filename in files:\n",
    "            if not os.path.basename(filename).startswith('.'):  # skip hidden files\n",
    "                filepath = os.path.join(root, filename)\n",
    "                rel_path = os.path.relpath(filepath, directory)\n",
    "                result.append(f_md_str(filepath, rel_path))\n",
    "    return result\n",
    "\n",
    "def update_file(\n",
    "    filepath:str, # The path of the file to update. if not provided\n",
    "    content:str # The content to replace the contents with\n",
    ") -> bool:\n",
    "    \"\"\"write content to file. tool for Claude to update files on my system\"\"\"\n",
    "    with open(filepath, 'w') as o: o.write(content)\n",
    "    return True"
   ]
  },
  {
   "cell_type": "code",
   "execution_count": 8,
   "metadata": {},
   "outputs": [],
   "source": [
    "with open('prompts/system-prompt.md') as f: sp = f.read()\n",
    "chat = Chat(opus3, sp=sp, tools=[update_file])"
   ]
  }
 ],
 "metadata": {
  "kernelspec": {
   "display_name": "venv",
   "language": "python",
   "name": "python3"
  },
  "language_info": {
   "codemirror_mode": {
    "name": "ipython",
    "version": 3
   },
   "file_extension": ".py",
   "mimetype": "text/x-python",
   "name": "python",
   "nbconvert_exporter": "python",
   "pygments_lexer": "ipython3",
   "version": "3.12.5"
  }
 },
 "nbformat": 4,
 "nbformat_minor": 2
}
