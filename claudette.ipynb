{
 "cells": [
  {
   "cell_type": "code",
   "execution_count": 1,
   "metadata": {},
   "outputs": [],
   "source": [
    "import os\n",
    "os.environ['ANTHROPIC_API_KEY'] = \"not making that fucking mistake\"\n",
    "# os.environ['ANTHROPIC_LOG'] = 'debug'"
   ]
  },
  {
   "cell_type": "code",
   "execution_count": 2,
   "metadata": {},
   "outputs": [],
   "source": [
    "from claudette import *\n",
    "sonnet35 = models[1]\n",
    "opus3 = models[0]"
   ]
  },
  {
   "cell_type": "code",
   "execution_count": 3,
   "metadata": {},
   "outputs": [],
   "source": [
    "def get_syntax_id(filename):\n",
    "    extension = os.path.splitext(filename)[1].lower()\n",
    "    syntax_map = {\n",
    "        '.py': 'python',\n",
    "        '.html': 'html',\n",
    "        '.js': 'javascript',\n",
    "        '.css': 'css',\n",
    "        '.md': 'markdown',\n",
    "        # add more mappings as needed\n",
    "    }\n",
    "    return syntax_map.get(extension, '')\n",
    "\n",
    "def md_str(content: str, fname:str=None) -> str:\n",
    "    syntax_id = get_syntax_id(fname)\n",
    "    return f\"### {fname}\\n\\n```{syntax_id}\\n{content}\\n```\\n\"\n",
    "\n",
    "def f_md_str(filepath:str, custom_filename:str=None) -> str:\n",
    "    \"\"\"reads file as a markdown code snippet\"\"\"\n",
    "    # print(f\"f_md_str invoked with {filepath=}, {syntax_id=}, {custom_filename=}\")\n",
    "    with open(filepath, 'r') as f: content = f.read()\n",
    "    filename = custom_filename or os.path.basename(filepath)\n",
    "    return md_str(content, fname=filename)\n",
    "\n",
    "def dir_md_str(directory:str) -> []:\n",
    "    \"\"\"reads directory as markdown code snippets. adds relative paths as headers for dir structure hints\"\"\"\n",
    "    result = []\n",
    "    for root, _, files in os.walk(directory):\n",
    "        for filename in files:\n",
    "            if not os.path.basename(filename).startswith('.'):  # skip hidden files\n",
    "                filepath = os.path.join(root, filename)\n",
    "                rel_path = os.path.relpath(filepath, directory)\n",
    "                result.append(f_md_str(filepath, rel_path))\n",
    "    return result\n",
    "\n",
    "def update_file(\n",
    "    filepath:str, # The path of the file to update. if not provided\n",
    "    content:str # The content to replace the contents with\n",
    ") -> bool:\n",
    "    \"\"\"write content to file. tool for Claude to update files on my system\"\"\"\n",
    "    with open(filepath, 'w') as o: o.write(content)\n",
    "    return True"
   ]
  },
  {
   "cell_type": "code",
   "execution_count": 7,
   "metadata": {},
   "outputs": [],
   "source": [
    "with open('prompts/system-prompt.md') as f: sp = f.read()\n",
    "chat = Chat(opus3, sp=sp)\n",
    "# use Chat(opus3 or sonnet35, sp=sp, tools=[update_file]) to inform Claude about the update_file tool"
   ]
  },
  {
   "cell_type": "code",
   "execution_count": 8,
   "metadata": {},
   "outputs": [
    {
     "data": {
      "text/markdown": [
       "```xml\n",
       "<thinking>\n",
       "    <parse>\n",
       "        simple greeting, no need for pleasantries\n",
       "    </parse>\n",
       "    <respond>\n",
       "        acknowledge with equally terse reply\n",
       "    </respond>\n",
       "</thinking>\n",
       "```\n",
       "\n",
       "hello\n",
       "\n",
       "<details>\n",
       "\n",
       "- id: `msg_01GcNka6Bkdqf87Ab3B7q6v7`\n",
       "- content: `[{'text': '```xml\\n<thinking>\\n    <parse>\\n        simple greeting, no need for pleasantries\\n    </parse>\\n    <respond>\\n        acknowledge with equally terse reply\\n    </respond>\\n</thinking>\\n```\\n\\nhello', 'type': 'text'}]`\n",
       "- model: `claude-3-opus-20240229`\n",
       "- role: `assistant`\n",
       "- stop_reason: `end_turn`\n",
       "- stop_sequence: `None`\n",
       "- type: `message`\n",
       "- usage: `{'input_tokens': 469, 'output_tokens': 56, 'cache_creation_input_tokens': 0, 'cache_read_input_tokens': 0}`\n",
       "\n",
       "</details>"
      ],
      "text/plain": [
       "Message(id='msg_01GcNka6Bkdqf87Ab3B7q6v7', content=[TextBlock(text='```xml\\n<thinking>\\n    <parse>\\n        simple greeting, no need for pleasantries\\n    </parse>\\n    <respond>\\n        acknowledge with equally terse reply\\n    </respond>\\n</thinking>\\n```\\n\\nhello', type='text')], model='claude-3-opus-20240229', role='assistant', stop_reason='end_turn', stop_sequence=None, type='message', usage=In: 469; Out: 56; Total: 525)"
      ]
     },
     "execution_count": 8,
     "metadata": {},
     "output_type": "execute_result"
    }
   ],
   "source": [
    "chat(\"hi Claude\")"
   ]
  },
  {
   "cell_type": "code",
   "execution_count": 9,
   "metadata": {},
   "outputs": [
    {
     "data": {
      "text/markdown": [
       "```xml\n",
       "<thinking>\n",
       "    <observe>\n",
       "        I see a markdown file named system-prompt.md\n",
       "        it contains instructions for how I should behave and format my responses\n",
       "    </observe>\n",
       "    <analyze>\n",
       "        <metaprompt1>\n",
       "            encourages brevity, technical detail, use of <thinking> tags, custom response format\n",
       "        </metaprompt1>\n",
       "        <metaprompt2>\n",
       "            mentions I will be given tools to use wisely, but no specifics yet\n",
       "        </metaprompt2>\n",
       "    </analyze>\n",
       "</thinking>\n",
       "```\n",
       "\n",
       "the file system-prompt.md contains:\n",
       "- metaprompt1 with guidelines for my behavior and response format\n",
       "- metaprompt2 hinting that I will be given tools to use\n",
       "- an overall prompt structure with BEGIN/END tags\n",
       "\n",
       "it seems to be a system prompt defining high-level parameters for our interaction. I will aim to follow the guidelines it lays out\n",
       "\n",
       "<details>\n",
       "\n",
       "- id: `msg_01XDWFvzQ4uTYH6y4bZ4p43c`\n",
       "- content: `[{'text': '```xml\\n<thinking>\\n    <observe>\\n        I see a markdown file named system-prompt.md\\n        it contains instructions for how I should behave and format my responses\\n    </observe>\\n    <analyze>\\n        <metaprompt1>\\n            encourages brevity, technical detail, use of <thinking> tags, custom response format\\n        </metaprompt1>\\n        <metaprompt2>\\n            mentions I will be given tools to use wisely, but no specifics yet\\n        </metaprompt2>\\n    </analyze>\\n</thinking>\\n```\\n\\nthe file system-prompt.md contains:\\n- metaprompt1 with guidelines for my behavior and response format\\n- metaprompt2 hinting that I will be given tools to use\\n- an overall prompt structure with BEGIN/END tags\\n\\nit seems to be a system prompt defining high-level parameters for our interaction. I will aim to follow the guidelines it lays out', 'type': 'text'}]`\n",
       "- model: `claude-3-opus-20240229`\n",
       "- role: `assistant`\n",
       "- stop_reason: `end_turn`\n",
       "- stop_sequence: `None`\n",
       "- type: `message`\n",
       "- usage: `{'input_tokens': 1006, 'output_tokens': 220, 'cache_creation_input_tokens': 0, 'cache_read_input_tokens': 0}`\n",
       "\n",
       "</details>"
      ],
      "text/plain": [
       "Message(id='msg_01XDWFvzQ4uTYH6y4bZ4p43c', content=[TextBlock(text='```xml\\n<thinking>\\n    <observe>\\n        I see a markdown file named system-prompt.md\\n        it contains instructions for how I should behave and format my responses\\n    </observe>\\n    <analyze>\\n        <metaprompt1>\\n            encourages brevity, technical detail, use of <thinking> tags, custom response format\\n        </metaprompt1>\\n        <metaprompt2>\\n            mentions I will be given tools to use wisely, but no specifics yet\\n        </metaprompt2>\\n    </analyze>\\n</thinking>\\n```\\n\\nthe file system-prompt.md contains:\\n- metaprompt1 with guidelines for my behavior and response format\\n- metaprompt2 hinting that I will be given tools to use\\n- an overall prompt structure with BEGIN/END tags\\n\\nit seems to be a system prompt defining high-level parameters for our interaction. I will aim to follow the guidelines it lays out', type='text')], model='claude-3-opus-20240229', role='assistant', stop_reason='end_turn', stop_sequence=None, type='message', usage=In: 1006; Out: 220; Total: 1226)"
      ]
     },
     "execution_count": 9,
     "metadata": {},
     "output_type": "execute_result"
    }
   ],
   "source": [
    "attachment = f_md_str(\"prompts/system-prompt.md\")\n",
    "prompt = \"what do you see?\"\n",
    "msg = mk_msg([attachment, prompt], cache=True)\n",
    "chat(msg)"
   ]
  }
 ],
 "metadata": {
  "kernelspec": {
   "display_name": "venv",
   "language": "python",
   "name": "python3"
  },
  "language_info": {
   "codemirror_mode": {
    "name": "ipython",
    "version": 3
   },
   "file_extension": ".py",
   "mimetype": "text/x-python",
   "name": "python",
   "nbconvert_exporter": "python",
   "pygments_lexer": "ipython3",
   "version": "3.12.5"
  }
 },
 "nbformat": 4,
 "nbformat_minor": 2
}
